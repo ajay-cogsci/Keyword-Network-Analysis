{
  "nbformat": 4,
  "nbformat_minor": 0,
  "metadata": {
    "colab": {
      "name": "Untitled21.ipynb",
      "provenance": [],
      "authorship_tag": "ABX9TyPgMN2sPMxvzLF+v3uhzVjz",
      "include_colab_link": true
    },
    "kernelspec": {
      "name": "python3",
      "display_name": "Python 3"
    }
  },
  "cells": [
    {
      "cell_type": "markdown",
      "metadata": {
        "id": "view-in-github",
        "colab_type": "text"
      },
      "source": [
        "<a href=\"https://colab.research.google.com/github/ajay-cogsci/Keyword-Network-Analysis/blob/master/KeywordNetworkAnalysis.ipynb\" target=\"_parent\"><img src=\"https://colab.research.google.com/assets/colab-badge.svg\" alt=\"Open In Colab\"/></a>"
      ]
    },
    {
      "cell_type": "code",
      "metadata": {
        "id": "1j3wq1vS23Nk",
        "colab_type": "code",
        "colab": {}
      },
      "source": [
        ""
      ],
      "execution_count": null,
      "outputs": []
    },
    {
      "cell_type": "markdown",
      "metadata": {
        "id": "n-SJD7PlH-fo",
        "colab_type": "text"
      },
      "source": [
        "[![Open in Colab](https://colab.research.google.com/assets/colab-badge.svg)](https://colab.research.google.com/github/googlecolab/colabtools/blob/master/notebooks/colab-github-demo.ipynb) "
      ]
    },
    {
      "cell_type": "markdown",
      "metadata": {
        "id": "Hk6c3P0HHVhH",
        "colab_type": "text"
      },
      "source": [
        "Source: \n",
        "https://www.pingshiuanchua.com/blog/post/keyword-network-analysis-with-python-and-gephi"
      ]
    },
    {
      "cell_type": "markdown",
      "metadata": {
        "id": "XSdJCfmX25ey",
        "colab_type": "text"
      },
      "source": [
        "**Using News API, Python and Gephi**"
      ]
    },
    {
      "cell_type": "code",
      "metadata": {
        "id": "lSVZJCXx45jA",
        "colab_type": "code",
        "colab": {
          "base_uri": "https://localhost:8080/",
          "height": 143
        },
        "outputId": "9265378b-89ba-4cf3-89f3-4a6962ea4d1e"
      },
      "source": [
        "!pip install newsapi-python\n",
        "from newsapi import NewsApiClient\n"
      ],
      "execution_count": null,
      "outputs": [
        {
          "output_type": "stream",
          "text": [
            "Requirement already satisfied: newsapi-python in /usr/local/lib/python3.6/dist-packages (0.2.6)\n",
            "Requirement already satisfied: requests<3.0.0 in /usr/local/lib/python3.6/dist-packages (from newsapi-python) (2.23.0)\n",
            "Requirement already satisfied: certifi>=2017.4.17 in /usr/local/lib/python3.6/dist-packages (from requests<3.0.0->newsapi-python) (2020.6.20)\n",
            "Requirement already satisfied: idna<3,>=2.5 in /usr/local/lib/python3.6/dist-packages (from requests<3.0.0->newsapi-python) (2.10)\n",
            "Requirement already satisfied: urllib3!=1.25.0,!=1.25.1,<1.26,>=1.21.1 in /usr/local/lib/python3.6/dist-packages (from requests<3.0.0->newsapi-python) (1.24.3)\n",
            "Requirement already satisfied: chardet<4,>=3.0.2 in /usr/local/lib/python3.6/dist-packages (from requests<3.0.0->newsapi-python) (3.0.4)\n"
          ],
          "name": "stdout"
        }
      ]
    },
    {
      "cell_type": "code",
      "metadata": {
        "id": "6w5GTrDp3NCw",
        "colab_type": "code",
        "colab": {
          "base_uri": "https://localhost:8080/",
          "height": 54
        },
        "outputId": "8fe7f6e3-2b82-4b91-984b-e33dc87a1300"
      },
      "source": [
        "\n",
        "\n",
        "\n",
        "api = NewsApiClient(api_key='862188f7bc4944f48efac0f2f854d7b0')\n",
        "json=api.get_everything(q='microsoft')\n",
        "\n",
        "print(json)\n"
      ],
      "execution_count": null,
      "outputs": [
        {
          "output_type": "stream",
          "text": [
            "{'status': 'ok', 'totalResults': 52768, 'articles': [{'source': {'id': 'wired', 'name': 'Wired'}, 'author': 'Lauren Goode', 'title': 'Microsoft Duo: Price, Details, Release Date', 'description': 'Microsoft has had to shift its sales pitch from a “work” product to “staying home indefinitely” device.', 'url': 'https://www.wired.com/story/microsoft-surface-duo-price-release-date/', 'urlToImage': 'https://media.wired.com/photos/5f32e4cd37e06d513ea90690/191:100/w_1280,c_limit/Gear-Duo-Hero_01.jpg', 'publishedAt': '2020-08-12T13:00:00Z', 'content': 'The context of these kinds of devices has changed, says Ben Arnold, consumer technology analyst at the NPD Group, which tracks US sales of electronics. Its not the one-handed emailer on the subway an… [+2086 chars]'}, {'source': {'id': 'the-verge', 'name': 'The Verge'}, 'author': 'Tom Warren', 'title': 'Microsoft signals renewed interest in Windows with latest reshuffle', 'description': 'Microsoft is reorganizing its Windows team again. Windows and Devices chief Panos Panay is taking on even more responsibility of Windows, during a period where Microsoft has shown a renewed focus on the operating system.', 'url': 'https://www.theverge.com/2020/8/7/21358339/microsoft-windows-reorg-2020-panos-panay-windows-development', 'urlToImage': 'https://cdn.vox-cdn.com/thumbor/mVAxlnHn2eNdvpobJ2DaVuYMy78=/0x74:1020x608/fit-in/1200x630/cdn.vox-cdn.com/uploads/chorus_asset/file/16292558/windowslogo_1.jpg', 'publishedAt': '2020-08-07T09:51:57Z', 'content': 'Panos Panay gets even more Windows responsibility\\r\\nPhoto by Dante DOrazio / The Verge\\r\\nMicrosoft is making some significant changes to the way it runs its Windows organization this week, signaling a … [+3702 chars]'}, {'source': {'id': 'the-verge', 'name': 'The Verge'}, 'author': 'Tom Warren', 'title': 'Microsoft launches new Family Safety app for iOS and Android', 'description': 'Microsoft is launching a new Family Safety app for iOS and Android. It’s designed for families to manage screentime and app usage. Microsoft Family Safety includes content filters, location sharing, and more.', 'url': 'https://www.theverge.com/2020/7/28/21344757/microsoft-family-safety-app-ios-android-download-features', 'urlToImage': 'https://cdn.vox-cdn.com/thumbor/waLvIqsHITaZGFKMYF3vdEU8vww=/0x50:2560x1390/fit-in/1200x630/cdn.vox-cdn.com/uploads/chorus_asset/file/20537474/7uVir4Q.jpg', 'publishedAt': '2020-07-28T16:00:00Z', 'content': 'Content filters, location sharing, and much more\\r\\nMicrosoft is launching a new Family Safety app for iOS and Android today. The software giant has been testing the app in recent months, and its desig… [+1932 chars]'}, {'source': {'id': 'techcrunch', 'name': 'TechCrunch'}, 'author': 'Anthony Ha', 'title': 'Daily Crunch: Microsoft-TikTok acquisition inches closer to reality', 'description': 'A possible Microsoft -TikTok acquisition is causing plenty of drama, we review Google’s new budget Pixel and SpaceX’s Crew Dragon returns to Earth. Here’s your Daily Crunch for August 3, 2020. Microsoft-TikTok acquisition inches closer to reality This weekend…', 'url': 'http://techcrunch.com/2020/08/03/daily-crunch-microsoft-tiktok-acquisition-inches-closer-to-reality/', 'urlToImage': 'https://techcrunch.com/wp-content/uploads/2020/07/GettyImages-1183804986.jpg?w=600', 'publishedAt': '2020-08-03T22:19:37Z', 'content': 'A possible Microsoft -TikTok acquisition is causing plenty of drama, we review Google’s new budget Pixel and SpaceX’s Crew Dragon returns to Earth. Here’s your Daily Crunch for August 3, 2020.\\r\\nMicro… [+3796 chars]'}, {'source': {'id': 'engadget', 'name': 'Engadget'}, 'author': 'Jon Fingas', 'title': 'Microsoft stops offering 12-month Xbox Live Gold memberships', 'description': 'Microsoft hasn’t just discontinued most of its outgoing Xbox One consoles — it also scrapped one of the staples of online Xbox gaming. The company confirmed to TrueAchievements (via IGN) that it stopped selling 12-month Xbox Live Gold memberships. You can sti…', 'url': 'https://www.engadget.com/microsoft-ends-12-month-xbox-live-gold-memberships-192821957.html', 'urlToImage': 'https://o.aolcdn.com/images/dims?resize=1200%2C630&crop=1200%2C630%2C0%2C0&quality=95&image_uri=https%3A%2F%2Fs.yimg.com%2Fos%2Fcreatr-images%2F2020-07%2F33d5a4e0-c9e3-11ea-ab76-db002153837a&client=amp-blogside-v2&signature=ed58fafaf3f11ff2dbc69b060f9e294eaffda610', 'publishedAt': '2020-07-19T19:28:21Z', 'content': 'Microsoft hasn’t just discontinued most of its outgoing Xbox One consoles — it also scrapped one of the staples of online Xbox gaming. The company confirmed to TrueAchievements (via IGN) that it stop… [+337 chars]'}, {'source': {'id': 'engadget', 'name': 'Engadget'}, 'author': 'Mariella Moon', 'title': 'Microsoft outlines its plan to become carbon negative by 2030', 'description': 'Microsoft has revealed how it plans to fulfill its pledge to become a carbon negative company by 2030. The tech giant first announced that it intends implement aggressive measures to remove more carbon from the atmosphere than it creates back in January. It a…', 'url': 'https://www.engadget.com/microsoft-carbon-negative-2030-steps-093047774.html', 'urlToImage': 'https://o.aolcdn.com/images/dims?resize=1200%2C630&crop=1200%2C630%2C0%2C0&quality=95&image_uri=https%3A%2F%2Fs.yimg.com%2Fos%2Fcreatr-images%2F2020-03%2Fb7748150-7299-11ea-bfbe-dc5ee1ecd17b&client=amp-blogside-v2&signature=ca88259422e1984494284fd8cc061f21099b48a1', 'publishedAt': '2020-07-22T09:30:47Z', 'content': 'The company has also started to work on removing its historical emissions, starting by taking concrete steps to remove 1 million metric tons of carbon from the environment this fiscal year. It promis… [+937 chars]'}, {'source': {'id': 'engadget', 'name': 'Engadget'}, 'author': 'Jon Fingas', 'title': 'Scientists rename genes because Microsoft Excel reads them as dates', 'description': 'Microsoft Excel’s automatic formatting is normally helpful for finishing spreadsheets quickly, but it’s proving to be an agent of chaos for geneticists. The Verge has learned that the HUGO Gene Nomenclature Committee has issued guidelines for naming human gen…', 'url': 'https://www.engadget.com/scientists-rename-genes-due-to-excel-151748790.html', 'urlToImage': 'https://o.aolcdn.com/images/dims?resize=1200%2C630&crop=1200%2C630%2C0%2C0&quality=95&image_uri=https%3A%2F%2Fs.yimg.com%2Fos%2Fcreatr-images%2F2019-03%2F007506d0-514a-11e9-bbee-0ca9f6b292a8&client=amp-blogside-v2&signature=e8df775a05ee59bbddf0ac87b64b2d1c14b8d236', 'publishedAt': '2020-08-06T15:17:48Z', 'content': 'There will still be a library of discarded names and symbols to help reduce confusion going forward.\\r\\nThe scientific community has changed gene names before, but usually to minimize false positives i… [+603 chars]'}, {'source': {'id': 'engadget', 'name': 'Engadget'}, 'author': 'Richard Lawler', 'title': \"Microsoft confirms free 'Halo Infinite' multiplayer running at 120FPS\", 'description': 'After a leak from an Irish retailer gave up the goods, Microsoft has confirmed the news — Halo Infinite will include a free-to-play multiplayer mode, and it’s running at 120FPS. This news wasn’t revealed during last week’s Xbox Series X gameplay showcase that…', 'url': 'https://www.engadget.com/halo-infinite-120fps-205131835.html', 'urlToImage': 'https://o.aolcdn.com/images/dims?resize=1200%2C630&crop=1200%2C630%2C0%2C0&quality=95&image_uri=https%3A%2F%2Fs.yimg.com%2Fos%2Fcreatr-uploaded-images%2F2020-07%2F55c22980-d36f-11ea-bb7d-bc8b10437fc7&client=amp-blogside-v2&signature=eb1a1a8b304858d49db46d21873b5c600eb89571', 'publishedAt': '2020-07-31T20:51:31Z', 'content': 'After a leak from an Irish retailer gave up the goods, Microsoft has confirmed the news — Halo Infinite will include a free-to-play multiplayer mode, and it’s running at 120FPS. This news wasn’t reve… [+548 chars]'}, {'source': {'id': 'engadget', 'name': 'Engadget'}, 'author': 'Cherlynn Low', 'title': 'Android-plus-Windows could be just what dual-screen devices need', 'description': 'Dual-screen devices have always been held back by their software. From the Kyocera Echo and the Samsung Henessy, to the ZTE Axon M and Lenovo’s Yoga Book, companies have come close to delivering a physical design that might work. But in the real-world, these …', 'url': 'https://www.engadget.com/microsoft-surface-duo-google-partnership-android-os-dual-screens-130039023.html', 'urlToImage': 'https://o.aolcdn.com/images/dims?resize=1200%2C630&crop=1200%2C630%2C0%2C0&quality=95&image_uri=https%3A%2F%2Fs.yimg.com%2Fos%2Fcreatr-uploaded-images%2F2020-08%2Fe2a69800-dc29-11ea-be6a-6672707cb785&client=amp-blogside-v2&signature=0760a2ac0117f91329e4f92810845357bb7079f8', 'publishedAt': '2020-08-12T13:01:15Z', 'content': 'These features aren’t new, but Microsoft offers some fresh tweaks, like a keyboard that appears only on the screen where you tapped the input field and is aligned to the respective bezel, making the … [+2883 chars]'}, {'source': {'id': 'engadget', 'name': 'Engadget'}, 'author': 'Nicole Lee', 'title': 'Trump says TikTok has until September 15th to sell US operations or close', 'description': 'According to the New York Times, President Donald Trump said at a White House briefing that TikTok must sell its US operations by September 15th, or be forced to shut down. He is open, however, to a Microsoft takeover of the outfit. He also wanted the US Trea…', 'url': 'https://www.engadget.com/trump-tiktok-us-microsoft-190552645.html', 'urlToImage': 'https://o.aolcdn.com/images/dims?resize=1200%2C630&crop=1200%2C630%2C0%2C0&quality=95&image_uri=https%3A%2F%2Fs.yimg.com%2Fos%2Fcreatr-uploaded-images%2F2020-08%2Fdeb4b6c0-d5ba-11ea-bfbb-f2f30abff60d&client=amp-blogside-v2&signature=1e62a12995cddfb69ac825cb8d41f2aaa5e005bc', 'publishedAt': '2020-08-03T19:05:52Z', 'content': '“[Microsoft] is committed to acquiring TikTok subject to a complete security review and providing proper economic benefits to the United States, including the United States Treasury,” the company sai… [+1545 chars]'}, {'source': {'id': 'the-verge', 'name': 'The Verge'}, 'author': 'Sean Hollister', 'title': 'One week later, it looks like Microsoft already broke a big promise with Xbox Series X', 'description': 'Did Microsoft convince you that you wouldn’t need to upgrade to next-gen hardware to play Xbox Series X games? Think again: half of the new titles that Microsoft showcased at its Xbox Series X showcase today, including Forza, aren’t currently coming to Xbox O…', 'url': 'https://www.theverge.com/2020/7/23/21335984/microsoft-xbox-series-x-exclusive-next-gen-promise', 'urlToImage': 'https://cdn.vox-cdn.com/thumbor/4FinVaBj-u3cb3ASGQ-BtIP4O7Y=/0x67:2208x1223/fit-in/1200x630/cdn.vox-cdn.com/uploads/chorus_asset/file/20108703/Screen_Shot_2020_07_23_at_12.17.05_PM.png', 'publishedAt': '2020-07-23T18:55:42Z', 'content': 'Did Microsoft convince you that you wouldn’t need to upgrade to next-gen hardware to play Xbox Series X games? Think again: fully half of the new titles that Microsoft showcased at its Xbox Series X … [+4778 chars]'}, {'source': {'id': 'wired', 'name': 'Wired'}, 'author': 'Lauren Goode', 'title': 'Apple Sets Climate Goals for 2030, Joining Amazon and Microsoft', 'description': 'If anything, these new initiatives show that earlier efforts just weren’t enough.', 'url': 'https://www.wired.com/story/apple-sets-climate-goals-for-2030/', 'urlToImage': 'https://media.wired.com/photos/5f1635482c5af566ee4afdc2/191:100/w_1280,c_limit/Gear-Apple_16-inch-MacBook-Pro_111319.jpg', 'publishedAt': '2020-07-21T12:00:00Z', 'content': 'The fact that were in the middle of a pandemic makes it easy to forget about that other massive global emergency hanging over our heads: the climate crisis. And yet, scientists, scholars, and other B… [+4025 chars]'}, {'source': {'id': 'techcrunch', 'name': 'TechCrunch'}, 'author': 'Matt Burns', 'title': 'ByteDance and Microsoft offer deal to allow TikTok to remain in the U.S., per report', 'description': 'China’s ByteDance has agreed to divest its TikTok operations in the US, according to a report in Reuters. Under the deal, Microsoft would take over stewardship of the data of U.S.-based users. The deal allows another company besides Microsoft to operate TikTo…', 'url': 'http://techcrunch.com/2020/08/01/bytedance-and-microsoft-offer-a-deal-to-allow-tiktok-to-remain-in-the-u-s-per-report/', 'urlToImage': 'https://techcrunch.com/wp-content/uploads/2020/07/GettyImages-1183804986.jpg?w=600', 'publishedAt': '2020-08-01T13:54:20Z', 'content': 'China’s ByteDance has agreed to divest its TikTok operations in the US, according to a report in Reuters. Under the deal, Microsoft would take over stewardship of the data of U.S.-based users. The de… [+1718 chars]'}, {'source': {'id': 'techcrunch', 'name': 'TechCrunch'}, 'author': 'Anthony Ha', 'title': 'Daily Crunch: Slack files antitrust complaint against Microsoft', 'description': 'An antitrust battle is brewing between Microsoft and Slack, Apple continues to defend its App Store policies and Dexterity raises funding for warehouse robots. Here’s your Daily Crunch for July 22, 2020. PS: I’m going to be on vacation until Wednesday of next…', 'url': 'http://techcrunch.com/2020/07/22/daily-crunch-slack-microsoft-antitrust/', 'urlToImage': 'https://techcrunch.com/wp-content/uploads/2019/06/GettyImages-1151015325.jpg?w=600', 'publishedAt': '2020-07-22T22:16:02Z', 'content': 'An antitrust battle is brewing between Microsoft and Slack, Apple continues to defend its App Store policies and Dexterity raises funding for warehouse robots. Here’s your Daily Crunch for July 22, 2… [+3374 chars]'}, {'source': {'id': None, 'name': 'Gizmodo.com'}, 'author': 'Bryan Menegus', 'title': \"Microsoft's Doing the Monopoly Thing Again, Slack Says\", 'description': 'Workplace messaging software company Slack is accusing Microsoft of monopoly behavior in an antitrust complaint filed today to European Union regulators. Unsurprisingly, the accusations hinge on the same practice that helped make Microsoft rich in the first p…', 'url': 'https://gizmodo.com/microsofts-doing-the-monopoly-thing-again-slack-says-1844469281', 'urlToImage': 'https://i.kinja-img.com/gawker-media/image/upload/c_fill,f_auto,fl_progressive,g_center,h_675,pg_1,q_80,w_1200/cqndvmjttenentlhedoi.jpg', 'publishedAt': '2020-07-22T17:50:00Z', 'content': 'Workplace messaging software company Slack is accusing Microsoft of monopoly behavior in an antitrust complaint filed today to European Union regulators. Unsurprisingly, the accusations hinge on the … [+2775 chars]'}, {'source': {'id': 'engadget', 'name': 'Engadget'}, 'author': 'Ann Smajstrla', 'title': 'Microsoft used hydrogen fuel cells to power a data center for two days straight', 'description': 'Microsoft announced Monday that hydrogen fuel cells powered a row of its datacenter servers for 48 consecutive hours, bringing the company one step closer toward its goal of becoming “carbon negative” by 2030. Microsoft is exploring how the clean technology c…', 'url': 'https://www.engadget.com/microsoft-hydrogen-fuel-cells-datacenters-223319512.html', 'urlToImage': 'https://o.aolcdn.com/images/dims?resize=1200%2C630&crop=1200%2C630%2C0%2C0&quality=95&image_uri=https%3A%2F%2Fs.yimg.com%2Fos%2Fcreatr-uploaded-images%2F2020-07%2F6e053b70-d04c-11ea-bfcf-ecfd3faa4fbc&client=amp-blogside-v2&signature=247b92977261882fb36d65144a6279ab7168a64e', 'publishedAt': '2020-07-27T22:33:19Z', 'content': 'The idea to explore hydrogen fuel cells originated in 2018, when researchers at the National Renewable Energy Laboratory in Golden, CO used a proton exchange membrane (PEM) hydrogen fuel cell to powe… [+1082 chars]'}, {'source': {'id': 'engadget', 'name': 'Engadget'}, 'author': 'Igor Bonifacic', 'title': 'Microsoft migrates ‘Minecraft’ from Amazon Web Services to its own Azure', 'description': 'Being owned by Microsoft, you would think Minecraft developer Mojang would be all about using tools like Teams and Office. But when it comes to some of its online infrastructure, the studio has been using the platform of one of Microsoft’s main competitors: A…', 'url': 'https://www.engadget.com/minecraft-microsoft-azure-193642521.html', 'urlToImage': 'https://o.aolcdn.com/images/dims?resize=1200%2C630&crop=1200%2C630%2C0%2C0&quality=95&image_uri=https%3A%2F%2Fs.yimg.com%2Fos%2Fcreatr-uploaded-images%2F2020-07%2F8667e680-cabc-11ea-99d7-4f893e8fe422&client=amp-blogside-v2&signature=c1259f357d990a5b3164029e198c40fdcc97aa68', 'publishedAt': '2020-07-20T19:36:42Z', 'content': '\"Mojang Studios has used AWS in the past, but we\\'ve been migrating all cloud services to Azure over the last few years,\" a spokesperson for the company told\\xa0CNBC. \"We\\'ll be fully transitioned to Azur… [+1437 chars]'}, {'source': {'id': 'engadget', 'name': 'Engadget'}, 'author': 'Igor Bonifacic', 'title': 'Microsoft will shut down the Cortana iOS and Android apps in 2021', 'description': 'We already knew Cortana’s days as a consumer-facing digital assistant were numbered after Microsoft said earlier this year it would remove the AI from its Android launcher app. But the company has now detailed additional cuts that users are likely to feel mor…', 'url': 'https://www.engadget.com/cortana-shutdown-harman-kardon-invoke-ios-android-191700426.html', 'urlToImage': 'https://o.aolcdn.com/images/dims?resize=1200%2C630&crop=1200%2C630%2C0%2C0&quality=95&image_uri=https%3A%2F%2Fs.yimg.com%2Fos%2Fcreatr-uploaded-images%2F2020-07%2F45761870-d360-11ea-a8ee-eee16a603e34&client=amp-blogside-v2&signature=477fb8d9daf160358ac4c24b2a3d9c175e79165c', 'publishedAt': '2020-07-31T19:17:00Z', 'content': 'Microsoft\\'s plan for Invoke speakers is likely to cause the most resentment. The company will push a firmware update to the smart device to turn it into a Bluetooth speaker. \"The firmware update will… [+1320 chars]'}, {'source': {'id': 'engadget', 'name': 'Engadget'}, 'author': 'Igor Bonifacic', 'title': 'The NBA will use Microsoft Teams to virtually seat fans courtside', 'description': 'When the National Basketball Association (NBA) restarts its season on July 30th, it will use\\xa0Microsoft Teams\\xa0to recreate the atmosphere of a packed arena without any fans physically present. As part of its\\xa0ongoing partnership\\xa0with Microsoft, the league plans …', 'url': 'https://www.engadget.com/nba-microsoft-teams-192426876.html', 'urlToImage': 'https://o.aolcdn.com/images/dims?resize=1200%2C630&crop=1200%2C630%2C0%2C0&quality=95&image_uri=https%3A%2F%2Fs.yimg.com%2Fos%2Fcreatr-uploaded-images%2F2020-07%2F5f7b1920-cde1-11ea-97fd-c6db21bd56a3&client=amp-blogside-v2&signature=4fa7092f168554613170d9fe395a5407e54cd0e1', 'publishedAt': '2020-07-24T19:24:26Z', 'content': 'The NBA is not the first league to use a video conferencing app to try its best to recreate the feeling of a packed arena in the era of COVID-19. Some leagues have even thought of more creative solut… [+703 chars]'}, {'source': {'id': 'the-verge', 'name': 'The Verge'}, 'author': 'Tom Warren', 'title': 'Microsoft releases Surface Duo press event video with 30 minutes of demos', 'description': 'Microsoft has published a 35-minute Surface Duo press event video. It provides the best look at the Surface Duo so far, complete with Microsoft’s design decisions and the internal specs of the dual-screen hardware.', 'url': 'https://www.theverge.com/2020/8/13/21367929/microsoft-surface-duo-android-demo-video-press-event-design-specs', 'urlToImage': 'https://cdn.vox-cdn.com/thumbor/x2hfYIa-G3btdAJ22V-JAVYbDiQ=/0x146:2040x1214/fit-in/1200x630/cdn.vox-cdn.com/uploads/chorus_asset/file/19254773/akrales_191002_3704_0174.jpg', 'publishedAt': '2020-08-13T19:52:26Z', 'content': 'Photo by Amelia Holowaty Krales / The Verge\\n\\n Microsoft has published a full 35-minute Surface Duo press briefing video that it held with journalists earlier this week. Microsoft typically holds in-p… [+786 chars]'}]}\n"
          ],
          "name": "stdout"
        }
      ]
    },
    {
      "cell_type": "code",
      "metadata": {
        "id": "MENTfG1l3jij",
        "colab_type": "code",
        "colab": {}
      },
      "source": [
        "articles = json['articles']\n",
        "headline = [article['title'] for article in articles]\n",
        "description = [article['description'] for article in articles]\n",
        "\n",
        "all_text = headline + description"
      ],
      "execution_count": null,
      "outputs": []
    },
    {
      "cell_type": "code",
      "metadata": {
        "id": "ZmT_TVda89XR",
        "colab_type": "code",
        "colab": {}
      },
      "source": [
        "from sklearn.feature_extraction.text import CountVectorizer\n",
        "cv = CountVectorizer(ngram_range=(1,1), stop_words = 'english') # You can define your own parameters\n",
        "X = cv.fit_transform(all_text)\n"
      ],
      "execution_count": null,
      "outputs": []
    },
    {
      "cell_type": "code",
      "metadata": {
        "id": "iyMsEBDW8_uH",
        "colab_type": "code",
        "colab": {}
      },
      "source": [
        "Xc = (X.T * X) # This is the matrix manipulation step\n",
        "Xc.setdiag(0) # We set the diagonals to be zeroes as it's pointless to be 1"
      ],
      "execution_count": null,
      "outputs": []
    },
    {
      "cell_type": "code",
      "metadata": {
        "id": "H9IJMtNx9H8c",
        "colab_type": "code",
        "colab": {}
      },
      "source": [
        "import pandas as pd\n",
        "names = cv.get_feature_names() # This are the entity names (i.e. keywords)\n",
        "df = pd.DataFrame(data = Xc.toarray(), columns = names, index = names)\n",
        "df.to_csv('microsoft gephi.csv', sep = ',')"
      ],
      "execution_count": null,
      "outputs": []
    }
  ]
}